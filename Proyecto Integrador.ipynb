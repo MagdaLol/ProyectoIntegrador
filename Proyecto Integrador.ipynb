{
 "cells": [
  {
   "cell_type": "markdown",
   "id": "7f0d021c",
   "metadata": {},
   "source": [
    "# Proyecto Integrador: Psychopathy Prediction Based on Twitter Usage"
   ]
  },
  {
   "cell_type": "markdown",
   "id": "c1e7210d",
   "metadata": {},
   "source": [
    "#### Magda Karina López López"
   ]
  },
  {
   "cell_type": "markdown",
   "id": "da9366f6",
   "metadata": {},
   "source": [
    "## Introducción"
   ]
  },
  {
   "cell_type": "markdown",
   "id": "37c1f18a",
   "metadata": {},
   "source": [
    "El uso de redes sociales ha aumentado de forma exponencial en la ultima década. Twitter es una red social muy popular por poder realizar publicación cortas con un limite de caracteres, donde se puede tener interacción con los temas de tendencia, publicar opiniones o compartir cosas de la vida diaria. Se estima que para 2025 Twitter tendrá un promedio de 360 millones de usuarios activos mensualmente, esto significa  el crecimiento previsto de los usuarios mundiales de Twitter entre 2021 y 2025 se mantendría en un rango comprendido entre el 1,3% y el 1,6%. (Fernández, 2022)\n",
    "\n",
    "Existen distintos proyectos en los que se estudia el comportamiento de los usuarios en este tipo de redes sociales, un topico que se ha llegado a estudiar durante estos años es el comportamiento en línea de conductas de personalidad anti-social como lo es la psicopatía.  El estudiar este tipo de comportamientos en redes socialeses importante, ya que todos pueden tener acceso a ellas y hacer uso a conveniencia del usuario. Al poder identificar y predecir si un comportamiento esta relacionado a una conducta especifica como la de un psicópata puede ser información muy valiosa para ayudar a las personas o incluso prevenir sucesos desafortunados. \n",
    "\n",
    "En el trabajo presentado a continuación tiene como objetivo realizar un modelo de ciencia de datos que logre identificar de forma automática a personas que tienen un alto grado de Psicópatas basado en el uso de Twitter. Los datos usados constan de 337 variables derivadas de funciones de Twitter y análisis lingüístico provenientes de usuarios detectados como psicópatas. Se considera que un usuario tiene un alto grado de psicópata cuando su puntuación esta por arriba de la media más 2 desviaciones estándar. Los datos se proporcionan en un archivo csv que se cargará y explorará para ver cual es la relación de la variable objetivo y las demás variables, posteriormente con los resultados de esta exploración de datos se empezara a trabajar sobre el modelo para hacer las predicciones, en este caso se ocuparáa un modelo de random forest de la paquetería sklearn de Python, los resultados de este modelo se evaluaran usando la medida del error medio absoluto (MAE).\n",
    "\n"
   ]
  },
  {
   "cell_type": "markdown",
   "id": "d66816bf",
   "metadata": {},
   "source": [
    "## Desarrollo"
   ]
  },
  {
   "cell_type": "markdown",
   "id": "46742a2e",
   "metadata": {},
   "source": [
    "Antes de empezar a modelar sobre los datos es de suma importancia conocer el set de datos, es por eso que primero se aplica una exploración de los datos. El contenido de datos se encuentra en un archivo .csv que se leerá como un data frame de pandas "
   ]
  },
  {
   "cell_type": "markdown",
   "id": "ae4290ee",
   "metadata": {},
   "source": [
    "*Se cargan los paquetes a usar en este proyecto*"
   ]
  },
  {
   "cell_type": "code",
   "execution_count": 1,
   "id": "4f9333b0",
   "metadata": {},
   "outputs": [],
   "source": [
    "#Librerias\n",
    "import pandas as pd\n",
    "from sklearn.ensemble import RandomForestRegressor\n",
    "from sklearn.metrics import mean_absolute_error\n",
    "from sklearn.model_selection import train_test_split\n",
    "from sklearn.impute import SimpleImputer\n",
    "from sklearn.compose import ColumnTransformer\n",
    "from sklearn.pipeline import Pipeline"
   ]
  },
  {
   "cell_type": "markdown",
   "id": "c4eaf168",
   "metadata": {},
   "source": [
    "*Se lee el archivo csv en un data frame*"
   ]
  },
  {
   "cell_type": "code",
   "execution_count": 2,
   "id": "ef644a55",
   "metadata": {},
   "outputs": [],
   "source": [
    "data=pd.read_csv('PersonalityData_ExternalVersion001.csv/PersonalityData_ExternalVersion001.csv', index_col=0)"
   ]
  },
  {
   "cell_type": "code",
   "execution_count": 3,
   "id": "ec6c895b",
   "metadata": {
    "scrolled": true
   },
   "outputs": [
    {
     "data": {
      "text/html": [
       "<div>\n",
       "<style scoped>\n",
       "    .dataframe tbody tr th:only-of-type {\n",
       "        vertical-align: middle;\n",
       "    }\n",
       "\n",
       "    .dataframe tbody tr th {\n",
       "        vertical-align: top;\n",
       "    }\n",
       "\n",
       "    .dataframe thead th {\n",
       "        text-align: right;\n",
       "    }\n",
       "</style>\n",
       "<table border=\"1\" class=\"dataframe\">\n",
       "  <thead>\n",
       "    <tr style=\"text-align: right;\">\n",
       "      <th></th>\n",
       "      <th>psychopathy</th>\n",
       "      <th>machiavellianism</th>\n",
       "      <th>narcissism</th>\n",
       "      <th>openness</th>\n",
       "      <th>conscientiousness</th>\n",
       "      <th>extraversion</th>\n",
       "      <th>agreeableness</th>\n",
       "      <th>neuroticism</th>\n",
       "      <th>Var1</th>\n",
       "      <th>Var2</th>\n",
       "      <th>...</th>\n",
       "      <th>Var91</th>\n",
       "      <th>Var92</th>\n",
       "      <th>Var93</th>\n",
       "      <th>Var94</th>\n",
       "      <th>Var95</th>\n",
       "      <th>Var96</th>\n",
       "      <th>Var97</th>\n",
       "      <th>Var98</th>\n",
       "      <th>Var99</th>\n",
       "      <th>Var100</th>\n",
       "    </tr>\n",
       "    <tr>\n",
       "      <th>uid</th>\n",
       "      <th></th>\n",
       "      <th></th>\n",
       "      <th></th>\n",
       "      <th></th>\n",
       "      <th></th>\n",
       "      <th></th>\n",
       "      <th></th>\n",
       "      <th></th>\n",
       "      <th></th>\n",
       "      <th></th>\n",
       "      <th></th>\n",
       "      <th></th>\n",
       "      <th></th>\n",
       "      <th></th>\n",
       "      <th></th>\n",
       "      <th></th>\n",
       "      <th></th>\n",
       "      <th></th>\n",
       "      <th></th>\n",
       "      <th></th>\n",
       "      <th></th>\n",
       "    </tr>\n",
       "  </thead>\n",
       "  <tbody>\n",
       "    <tr>\n",
       "      <th>1</th>\n",
       "      <td>2.444444</td>\n",
       "      <td>3.4</td>\n",
       "      <td>3.444444</td>\n",
       "      <td>7.0</td>\n",
       "      <td>6.0</td>\n",
       "      <td>5.5</td>\n",
       "      <td>3.5</td>\n",
       "      <td>3.5</td>\n",
       "      <td>48.59</td>\n",
       "      <td>0.0</td>\n",
       "      <td>...</td>\n",
       "      <td>4.86</td>\n",
       "      <td>1.31</td>\n",
       "      <td>2.05</td>\n",
       "      <td>0.66</td>\n",
       "      <td>0.92</td>\n",
       "      <td>1.14</td>\n",
       "      <td>4.37</td>\n",
       "      <td>0.71</td>\n",
       "      <td>15.11</td>\n",
       "      <td>45.70</td>\n",
       "    </tr>\n",
       "    <tr>\n",
       "      <th>2</th>\n",
       "      <td>1.888889</td>\n",
       "      <td>2.4</td>\n",
       "      <td>2.777778</td>\n",
       "      <td>7.0</td>\n",
       "      <td>4.5</td>\n",
       "      <td>6.0</td>\n",
       "      <td>3.0</td>\n",
       "      <td>5.5</td>\n",
       "      <td>41.29</td>\n",
       "      <td>0.0</td>\n",
       "      <td>...</td>\n",
       "      <td>8.28</td>\n",
       "      <td>0.04</td>\n",
       "      <td>0.46</td>\n",
       "      <td>2.34</td>\n",
       "      <td>2.99</td>\n",
       "      <td>0.38</td>\n",
       "      <td>1.46</td>\n",
       "      <td>2.83</td>\n",
       "      <td>21.90</td>\n",
       "      <td>53.49</td>\n",
       "    </tr>\n",
       "    <tr>\n",
       "      <th>3</th>\n",
       "      <td>1.111111</td>\n",
       "      <td>3.0</td>\n",
       "      <td>3.444444</td>\n",
       "      <td>5.5</td>\n",
       "      <td>6.0</td>\n",
       "      <td>6.0</td>\n",
       "      <td>6.5</td>\n",
       "      <td>3.0</td>\n",
       "      <td>14.65</td>\n",
       "      <td>0.0</td>\n",
       "      <td>...</td>\n",
       "      <td>3.07</td>\n",
       "      <td>0.20</td>\n",
       "      <td>2.63</td>\n",
       "      <td>1.72</td>\n",
       "      <td>0.64</td>\n",
       "      <td>0.42</td>\n",
       "      <td>2.74</td>\n",
       "      <td>0.11</td>\n",
       "      <td>10.13</td>\n",
       "      <td>32.77</td>\n",
       "    </tr>\n",
       "    <tr>\n",
       "      <th>4</th>\n",
       "      <td>1.888889</td>\n",
       "      <td>3.0</td>\n",
       "      <td>2.444444</td>\n",
       "      <td>5.0</td>\n",
       "      <td>3.5</td>\n",
       "      <td>2.0</td>\n",
       "      <td>6.5</td>\n",
       "      <td>1.5</td>\n",
       "      <td>17.60</td>\n",
       "      <td>0.0</td>\n",
       "      <td>...</td>\n",
       "      <td>1.65</td>\n",
       "      <td>0.16</td>\n",
       "      <td>1.43</td>\n",
       "      <td>2.42</td>\n",
       "      <td>1.07</td>\n",
       "      <td>1.67</td>\n",
       "      <td>3.46</td>\n",
       "      <td>0.35</td>\n",
       "      <td>5.65</td>\n",
       "      <td>32.67</td>\n",
       "    </tr>\n",
       "    <tr>\n",
       "      <th>5</th>\n",
       "      <td>2.111111</td>\n",
       "      <td>3.1</td>\n",
       "      <td>1.333333</td>\n",
       "      <td>6.0</td>\n",
       "      <td>5.5</td>\n",
       "      <td>2.5</td>\n",
       "      <td>5.5</td>\n",
       "      <td>5.0</td>\n",
       "      <td>52.63</td>\n",
       "      <td>9.0</td>\n",
       "      <td>...</td>\n",
       "      <td>1.12</td>\n",
       "      <td>0.08</td>\n",
       "      <td>1.14</td>\n",
       "      <td>0.38</td>\n",
       "      <td>0.85</td>\n",
       "      <td>1.05</td>\n",
       "      <td>4.67</td>\n",
       "      <td>0.38</td>\n",
       "      <td>8.34</td>\n",
       "      <td>34.25</td>\n",
       "    </tr>\n",
       "    <tr>\n",
       "      <th>...</th>\n",
       "      <td>...</td>\n",
       "      <td>...</td>\n",
       "      <td>...</td>\n",
       "      <td>...</td>\n",
       "      <td>...</td>\n",
       "      <td>...</td>\n",
       "      <td>...</td>\n",
       "      <td>...</td>\n",
       "      <td>...</td>\n",
       "      <td>...</td>\n",
       "      <td>...</td>\n",
       "      <td>...</td>\n",
       "      <td>...</td>\n",
       "      <td>...</td>\n",
       "      <td>...</td>\n",
       "      <td>...</td>\n",
       "      <td>...</td>\n",
       "      <td>...</td>\n",
       "      <td>...</td>\n",
       "      <td>...</td>\n",
       "      <td>...</td>\n",
       "    </tr>\n",
       "    <tr>\n",
       "      <th>2923</th>\n",
       "      <td>2.000000</td>\n",
       "      <td>2.4</td>\n",
       "      <td>3.222222</td>\n",
       "      <td>6.0</td>\n",
       "      <td>6.5</td>\n",
       "      <td>3.0</td>\n",
       "      <td>3.5</td>\n",
       "      <td>4.5</td>\n",
       "      <td>10.13</td>\n",
       "      <td>0.0</td>\n",
       "      <td>...</td>\n",
       "      <td>4.19</td>\n",
       "      <td>0.00</td>\n",
       "      <td>2.99</td>\n",
       "      <td>0.00</td>\n",
       "      <td>1.80</td>\n",
       "      <td>0.00</td>\n",
       "      <td>3.59</td>\n",
       "      <td>0.00</td>\n",
       "      <td>14.37</td>\n",
       "      <td>37.72</td>\n",
       "    </tr>\n",
       "    <tr>\n",
       "      <th>2924</th>\n",
       "      <td>1.333333</td>\n",
       "      <td>3.0</td>\n",
       "      <td>2.444444</td>\n",
       "      <td>6.0</td>\n",
       "      <td>4.5</td>\n",
       "      <td>7.0</td>\n",
       "      <td>6.5</td>\n",
       "      <td>1.0</td>\n",
       "      <td>10.06</td>\n",
       "      <td>0.0</td>\n",
       "      <td>...</td>\n",
       "      <td>2.86</td>\n",
       "      <td>0.00</td>\n",
       "      <td>2.86</td>\n",
       "      <td>0.00</td>\n",
       "      <td>1.90</td>\n",
       "      <td>0.00</td>\n",
       "      <td>2.86</td>\n",
       "      <td>0.00</td>\n",
       "      <td>12.38</td>\n",
       "      <td>31.43</td>\n",
       "    </tr>\n",
       "    <tr>\n",
       "      <th>2925</th>\n",
       "      <td>2.777778</td>\n",
       "      <td>3.6</td>\n",
       "      <td>3.666667</td>\n",
       "      <td>3.5</td>\n",
       "      <td>2.5</td>\n",
       "      <td>3.5</td>\n",
       "      <td>5.0</td>\n",
       "      <td>5.5</td>\n",
       "      <td>10.00</td>\n",
       "      <td>0.0</td>\n",
       "      <td>...</td>\n",
       "      <td>10.43</td>\n",
       "      <td>0.87</td>\n",
       "      <td>0.00</td>\n",
       "      <td>4.35</td>\n",
       "      <td>0.00</td>\n",
       "      <td>0.00</td>\n",
       "      <td>0.87</td>\n",
       "      <td>0.00</td>\n",
       "      <td>19.13</td>\n",
       "      <td>59.13</td>\n",
       "    </tr>\n",
       "    <tr>\n",
       "      <th>2926</th>\n",
       "      <td>1.555556</td>\n",
       "      <td>2.9</td>\n",
       "      <td>3.777778</td>\n",
       "      <td>4.0</td>\n",
       "      <td>6.5</td>\n",
       "      <td>4.0</td>\n",
       "      <td>2.5</td>\n",
       "      <td>4.0</td>\n",
       "      <td>27.79</td>\n",
       "      <td>0.0</td>\n",
       "      <td>...</td>\n",
       "      <td>3.51</td>\n",
       "      <td>0.25</td>\n",
       "      <td>3.84</td>\n",
       "      <td>11.27</td>\n",
       "      <td>0.17</td>\n",
       "      <td>0.58</td>\n",
       "      <td>1.34</td>\n",
       "      <td>0.08</td>\n",
       "      <td>12.69</td>\n",
       "      <td>42.90</td>\n",
       "    </tr>\n",
       "    <tr>\n",
       "      <th>2927</th>\n",
       "      <td>2.444444</td>\n",
       "      <td>3.0</td>\n",
       "      <td>2.444444</td>\n",
       "      <td>7.0</td>\n",
       "      <td>5.5</td>\n",
       "      <td>1.5</td>\n",
       "      <td>3.0</td>\n",
       "      <td>4.0</td>\n",
       "      <td>NaN</td>\n",
       "      <td>0.0</td>\n",
       "      <td>...</td>\n",
       "      <td>NaN</td>\n",
       "      <td>NaN</td>\n",
       "      <td>NaN</td>\n",
       "      <td>NaN</td>\n",
       "      <td>NaN</td>\n",
       "      <td>NaN</td>\n",
       "      <td>NaN</td>\n",
       "      <td>NaN</td>\n",
       "      <td>NaN</td>\n",
       "      <td>NaN</td>\n",
       "    </tr>\n",
       "  </tbody>\n",
       "</table>\n",
       "<p>2927 rows × 108 columns</p>\n",
       "</div>"
      ],
      "text/plain": [
       "      psychopathy  machiavellianism  narcissism  openness  conscientiousness  \\\n",
       "uid                                                                            \n",
       "1        2.444444               3.4    3.444444       7.0                6.0   \n",
       "2        1.888889               2.4    2.777778       7.0                4.5   \n",
       "3        1.111111               3.0    3.444444       5.5                6.0   \n",
       "4        1.888889               3.0    2.444444       5.0                3.5   \n",
       "5        2.111111               3.1    1.333333       6.0                5.5   \n",
       "...           ...               ...         ...       ...                ...   \n",
       "2923     2.000000               2.4    3.222222       6.0                6.5   \n",
       "2924     1.333333               3.0    2.444444       6.0                4.5   \n",
       "2925     2.777778               3.6    3.666667       3.5                2.5   \n",
       "2926     1.555556               2.9    3.777778       4.0                6.5   \n",
       "2927     2.444444               3.0    2.444444       7.0                5.5   \n",
       "\n",
       "      extraversion  agreeableness  neuroticism   Var1  Var2  ...  Var91  \\\n",
       "uid                                                          ...          \n",
       "1              5.5            3.5          3.5  48.59   0.0  ...   4.86   \n",
       "2              6.0            3.0          5.5  41.29   0.0  ...   8.28   \n",
       "3              6.0            6.5          3.0  14.65   0.0  ...   3.07   \n",
       "4              2.0            6.5          1.5  17.60   0.0  ...   1.65   \n",
       "5              2.5            5.5          5.0  52.63   9.0  ...   1.12   \n",
       "...            ...            ...          ...    ...   ...  ...    ...   \n",
       "2923           3.0            3.5          4.5  10.13   0.0  ...   4.19   \n",
       "2924           7.0            6.5          1.0  10.06   0.0  ...   2.86   \n",
       "2925           3.5            5.0          5.5  10.00   0.0  ...  10.43   \n",
       "2926           4.0            2.5          4.0  27.79   0.0  ...   3.51   \n",
       "2927           1.5            3.0          4.0    NaN   0.0  ...    NaN   \n",
       "\n",
       "      Var92  Var93  Var94  Var95  Var96  Var97  Var98  Var99  Var100  \n",
       "uid                                                                   \n",
       "1      1.31   2.05   0.66   0.92   1.14   4.37   0.71  15.11   45.70  \n",
       "2      0.04   0.46   2.34   2.99   0.38   1.46   2.83  21.90   53.49  \n",
       "3      0.20   2.63   1.72   0.64   0.42   2.74   0.11  10.13   32.77  \n",
       "4      0.16   1.43   2.42   1.07   1.67   3.46   0.35   5.65   32.67  \n",
       "5      0.08   1.14   0.38   0.85   1.05   4.67   0.38   8.34   34.25  \n",
       "...     ...    ...    ...    ...    ...    ...    ...    ...     ...  \n",
       "2923   0.00   2.99   0.00   1.80   0.00   3.59   0.00  14.37   37.72  \n",
       "2924   0.00   2.86   0.00   1.90   0.00   2.86   0.00  12.38   31.43  \n",
       "2925   0.87   0.00   4.35   0.00   0.00   0.87   0.00  19.13   59.13  \n",
       "2926   0.25   3.84  11.27   0.17   0.58   1.34   0.08  12.69   42.90  \n",
       "2927    NaN    NaN    NaN    NaN    NaN    NaN    NaN    NaN     NaN  \n",
       "\n",
       "[2927 rows x 108 columns]"
      ]
     },
     "execution_count": 3,
     "metadata": {},
     "output_type": "execute_result"
    }
   ],
   "source": [
    "#Se imprimen los datos cargados\n",
    "data"
   ]
  },
  {
   "cell_type": "markdown",
   "id": "baacffdb",
   "metadata": {},
   "source": [
    "### Exploración de datos"
   ]
  },
  {
   "cell_type": "markdown",
   "id": "46b96d7c",
   "metadata": {},
   "source": [
    "#### Correlación de las variables"
   ]
  },
  {
   "cell_type": "markdown",
   "id": "0d37b812",
   "metadata": {},
   "source": [
    "Se observa que el dataframe contiene un gran numero de variables, pero la variable que nos interesa y será nuestro objetivo es el score almacenado en la variable de psychopathy, existen otras variables relacionadas a otro tipo de comportamiento antisocial como narcisismo, maquiavelismo, etc. Pero en este trabajo nos enfocaremos en los scores altos es psicopatía.\n",
    "\n",
    "Se puede observar que estos datos ya se encuentran procesados, siendo así que el resto de variables están identificadas como Var y un numero consecutivo, ya que los valores importantes son los scores resultantes para cada tipo de comportamiento resultante de las funciones que aplicadas previamente con herramientas de Twitter y obtener estos resultados. \n",
    "Aun así se realizará un ejercicio de correlación entre la variable de psychopathy y el resto.\n",
    "\n",
    "*Se aplica la función corr sobre el data frame para sacar la correlación entre las variables siendo 1 una correlación positiva muy alta y -1 una correlación negativa. Se guarda en un arreglo los resultados de la correlación de nuestra variable objetivo con el resto y a continuación solo se presentan las 10 mas altas.* "
   ]
  },
  {
   "cell_type": "code",
   "execution_count": 37,
   "id": "79dc93e0",
   "metadata": {},
   "outputs": [
    {
     "data": {
      "text/plain": [
       "[[0.9999999999999998, 'psychopathy'],\n",
       " [0.431972636122896, 'machiavellianism'],\n",
       " [0.28594331196810624, 'narcissism'],\n",
       " [0.1475527251599112, 'Var55'],\n",
       " [0.1467962523628097, 'Var46'],\n",
       " [0.11084238438850609, 'neuroticism'],\n",
       " [0.09601597488055053, 'Var53'],\n",
       " [0.09555852523780607, 'extraversion'],\n",
       " [0.09328656604032108, 'Var14'],\n",
       " [0.0748496572345056, 'Var9']]"
      ]
     },
     "execution_count": 37,
     "metadata": {},
     "output_type": "execute_result"
    }
   ],
   "source": [
    "import scipy.stats\n",
    "import numpy as np\n",
    "corr=[]\n",
    "#Ciclo que recorre todas las comlumnas del df para sacar la correlacion con la variable de psycopathy\n",
    "for i in data.columns:\n",
    "    #se aplica una excepcion porque una de las variables marcaba error al hacer la correlacion\n",
    "    try:\n",
    "        corr.append([data['psychopathy'].corr(data[i]),i])\n",
    "    except:\n",
    "        corr.append([-10,i])\n",
    "corr.sort(reverse=True)\n",
    "#Se imprimen los 10 mejores resultados de correlacion de variables\n",
    "corr[:10]"
   ]
  },
  {
   "cell_type": "markdown",
   "id": "dfbf996a",
   "metadata": {},
   "source": [
    "*Se carga la libreria para graficar la correlacion más alta de las variables*"
   ]
  },
  {
   "cell_type": "code",
   "execution_count": 57,
   "id": "6c892dd1",
   "metadata": {},
   "outputs": [],
   "source": [
    "pd.plotting.register_matplotlib_converters()\n",
    "import matplotlib.pyplot as plt\n",
    "%matplotlib inline\n",
    "import seaborn as sns"
   ]
  },
  {
   "cell_type": "markdown",
   "id": "8e869354",
   "metadata": {},
   "source": [
    "*Correlación entre psychopathy y machiavellianism*"
   ]
  },
  {
   "cell_type": "code",
   "execution_count": 40,
   "id": "18d8946f",
   "metadata": {},
   "outputs": [
    {
     "data": {
      "text/plain": [
       "<AxesSubplot:xlabel='psychopathy', ylabel='machiavellianism'>"
      ]
     },
     "execution_count": 40,
     "metadata": {},
     "output_type": "execute_result"
    },
    {
     "data": {
      "image/png": "[encoded data removed]",
      "text/plain": [
       "<Figure size 432x288 with 1 Axes>"
      ]
     },
     "metadata": {
      "needs_background": "light"
     },
     "output_type": "display_data"
    }
   ],
   "source": [
    "sns.scatterplot(x=data['psychopathy'], y=data['machiavellianism'])"
   ]
  },
  {
   "cell_type": "markdown",
   "id": "91a4456c",
   "metadata": {},
   "source": [
    "*Correlación entre psychopathy y Var55*"
   ]
  },
  {
   "cell_type": "code",
   "execution_count": 41,
   "id": "0f7b52a1",
   "metadata": {},
   "outputs": [
    {
     "data": {
      "text/plain": [
       "<AxesSubplot:xlabel='psychopathy', ylabel='Var55'>"
      ]
     },
     "execution_count": 41,
     "metadata": {},
     "output_type": "execute_result"
    },
    {
     "data": {
      "image/png": "[encoded data removed]",
      "text/plain": [
       "<Figure size 432x288 with 1 Axes>"
      ]
     },
     "metadata": {
      "needs_background": "light"
     },
     "output_type": "display_data"
    }
   ],
   "source": [
    "sns.scatterplot(x=data['psychopathy'], y=data['Var55'])"
   ]
  },
  {
   "cell_type": "markdown",
   "id": "d4bece76",
   "metadata": {},
   "source": [
    "*Correlación entre psychopathy y Var46*"
   ]
  },
  {
   "cell_type": "code",
   "execution_count": 42,
   "id": "53fdb481",
   "metadata": {},
   "outputs": [
    {
     "data": {
      "text/plain": [
       "<AxesSubplot:xlabel='psychopathy', ylabel='Var46'>"
      ]
     },
     "execution_count": 42,
     "metadata": {},
     "output_type": "execute_result"
    },
    {
     "data": {
      "image/png": "[encoded data removed]",
      "text/plain": [
       "<Figure size 432x288 with 1 Axes>"
      ]
     },
     "metadata": {
      "needs_background": "light"
     },
     "output_type": "display_data"
    }
   ],
   "source": [
    "sns.scatterplot(x=data['psychopathy'], y=data['Var46'])"
   ]
  },
  {
   "cell_type": "markdown",
   "id": "bc7d97fb",
   "metadata": {},
   "source": [
    "*Se saca un resumen de las estadísticas de los datos*"
   ]
  },
  {
   "cell_type": "code",
   "execution_count": 4,
   "id": "502a7a00",
   "metadata": {},
   "outputs": [
    {
     "data": {
      "text/plain": [
       "count    2927.000000\n",
       "mean        1.975819\n",
       "std         0.590817\n",
       "min         1.000000\n",
       "25%         1.555556\n",
       "50%         1.888889\n",
       "75%         2.333333\n",
       "max         4.666667\n",
       "Name: psychopathy, dtype: float64"
      ]
     },
     "execution_count": 4,
     "metadata": {},
     "output_type": "execute_result"
    }
   ],
   "source": [
    "data['psychopathy'].describe()"
   ]
  },
  {
   "cell_type": "markdown",
   "id": "79e67d4d",
   "metadata": {},
   "source": [
    "### Construcción del modelo"
   ]
  },
  {
   "cell_type": "markdown",
   "id": "85f6af77",
   "metadata": {},
   "source": [
    "Una vez explorando los datos, se puede decir que la variable de psychopathy es la que nos proporciona los datos que se ocuparan para la construcción del modelo, el objetivo es determinar si es un score alto para psicópata o no. \n",
    "\n",
    "Es por eso que a continuación se crea una función que determina si el score es alto para psicópata o no. Esta métrica se define como 2 desviaciones estándar arriba de la media de 1.98, según el checklist desarrollado por Professor Del Paulhus de la Universidad de British Columbia"
   ]
  },
  {
   "cell_type": "code",
   "execution_count": 5,
   "id": "d89d690e",
   "metadata": {},
   "outputs": [],
   "source": [
    "###scoring high in Psychopathy,  defined as 2 SD's above a mean of 1.98.\n",
    "def isPsyco(x):\n",
    "    score=1.98+(2*0.590817)\n",
    "    if x>=score:\n",
    "        return True\n",
    "    else:\n",
    "        return False        "
   ]
  },
  {
   "cell_type": "markdown",
   "id": "c4451626",
   "metadata": {},
   "source": [
    "Construcción de un data frame con las variables:\n",
    "* Score: variable numérica que indica el nivel de psicópata \n",
    "* Scoring high in Psychopathy: variable booleana donde verdadero es igual a que tiene un nivel alto en psicópata y Falso es que no tiene un nivel alto en psicópata. Este valor es asignado por la función isPsyco\n",
    "* Var1 y Var2:  variables con mayor correlación con la variable psychopathy, se usan para darle mayor robustez al modelo \n"
   ]
  },
  {
   "cell_type": "code",
   "execution_count": 45,
   "id": "e4ff2000",
   "metadata": {},
   "outputs": [],
   "source": [
    "dfPsyco=pd.DataFrame()\n",
    "dfPsyco['Score']=data['psychopathy']\n",
    "dfPsyco['Scoring high in Psychopathy']=data['psychopathy'].apply(isPsyco)\n",
    "dfPsyco['Var1']=data['Var55']\n",
    "dfPsyco['Var2']=data['Var12']"
   ]
  },
  {
   "cell_type": "markdown",
   "id": "a6dcc32e",
   "metadata": {},
   "source": [
    "Despliegue de los resultados que dieron positivo para alto en psicópata "
   ]
  },
  {
   "cell_type": "code",
   "execution_count": 46,
   "id": "8a9309fc",
   "metadata": {
    "scrolled": true
   },
   "outputs": [
    {
     "data": {
      "text/html": [
       "<div>\n",
       "<style scoped>\n",
       "    .dataframe tbody tr th:only-of-type {\n",
       "        vertical-align: middle;\n",
       "    }\n",
       "\n",
       "    .dataframe tbody tr th {\n",
       "        vertical-align: top;\n",
       "    }\n",
       "\n",
       "    .dataframe thead th {\n",
       "        text-align: right;\n",
       "    }\n",
       "</style>\n",
       "<table border=\"1\" class=\"dataframe\">\n",
       "  <thead>\n",
       "    <tr style=\"text-align: right;\">\n",
       "      <th></th>\n",
       "      <th>Score</th>\n",
       "      <th>Scoring high in Psychopathy</th>\n",
       "      <th>Var1</th>\n",
       "      <th>Var2</th>\n",
       "    </tr>\n",
       "    <tr>\n",
       "      <th>uid</th>\n",
       "      <th></th>\n",
       "      <th></th>\n",
       "      <th></th>\n",
       "      <th></th>\n",
       "    </tr>\n",
       "  </thead>\n",
       "  <tbody>\n",
       "    <tr>\n",
       "      <th>20</th>\n",
       "      <td>3.555556</td>\n",
       "      <td>True</td>\n",
       "      <td>0.83</td>\n",
       "      <td>2711.0</td>\n",
       "    </tr>\n",
       "    <tr>\n",
       "      <th>66</th>\n",
       "      <td>3.555556</td>\n",
       "      <td>True</td>\n",
       "      <td>1.56</td>\n",
       "      <td>62.0</td>\n",
       "    </tr>\n",
       "    <tr>\n",
       "      <th>74</th>\n",
       "      <td>3.222222</td>\n",
       "      <td>True</td>\n",
       "      <td>0.21</td>\n",
       "      <td>3219.0</td>\n",
       "    </tr>\n",
       "    <tr>\n",
       "      <th>84</th>\n",
       "      <td>3.444444</td>\n",
       "      <td>True</td>\n",
       "      <td>0.49</td>\n",
       "      <td>176.0</td>\n",
       "    </tr>\n",
       "    <tr>\n",
       "      <th>117</th>\n",
       "      <td>3.777778</td>\n",
       "      <td>True</td>\n",
       "      <td>1.05</td>\n",
       "      <td>3185.0</td>\n",
       "    </tr>\n",
       "    <tr>\n",
       "      <th>...</th>\n",
       "      <td>...</td>\n",
       "      <td>...</td>\n",
       "      <td>...</td>\n",
       "      <td>...</td>\n",
       "    </tr>\n",
       "    <tr>\n",
       "      <th>2818</th>\n",
       "      <td>3.222222</td>\n",
       "      <td>True</td>\n",
       "      <td>0.65</td>\n",
       "      <td>269.0</td>\n",
       "    </tr>\n",
       "    <tr>\n",
       "      <th>2828</th>\n",
       "      <td>3.666667</td>\n",
       "      <td>True</td>\n",
       "      <td>0.71</td>\n",
       "      <td>309.0</td>\n",
       "    </tr>\n",
       "    <tr>\n",
       "      <th>2866</th>\n",
       "      <td>3.333333</td>\n",
       "      <td>True</td>\n",
       "      <td>0.00</td>\n",
       "      <td>4.0</td>\n",
       "    </tr>\n",
       "    <tr>\n",
       "      <th>2869</th>\n",
       "      <td>3.222222</td>\n",
       "      <td>True</td>\n",
       "      <td>0.13</td>\n",
       "      <td>40.0</td>\n",
       "    </tr>\n",
       "    <tr>\n",
       "      <th>2882</th>\n",
       "      <td>3.222222</td>\n",
       "      <td>True</td>\n",
       "      <td>1.10</td>\n",
       "      <td>1337.0</td>\n",
       "    </tr>\n",
       "  </tbody>\n",
       "</table>\n",
       "<p>98 rows × 4 columns</p>\n",
       "</div>"
      ],
      "text/plain": [
       "         Score  Scoring high in Psychopathy  Var1    Var2\n",
       "uid                                                      \n",
       "20    3.555556                         True  0.83  2711.0\n",
       "66    3.555556                         True  1.56    62.0\n",
       "74    3.222222                         True  0.21  3219.0\n",
       "84    3.444444                         True  0.49   176.0\n",
       "117   3.777778                         True  1.05  3185.0\n",
       "...        ...                          ...   ...     ...\n",
       "2818  3.222222                         True  0.65   269.0\n",
       "2828  3.666667                         True  0.71   309.0\n",
       "2866  3.333333                         True  0.00     4.0\n",
       "2869  3.222222                         True  0.13    40.0\n",
       "2882  3.222222                         True  1.10  1337.0\n",
       "\n",
       "[98 rows x 4 columns]"
      ]
     },
     "execution_count": 46,
     "metadata": {},
     "output_type": "execute_result"
    }
   ],
   "source": [
    "dfPsyco[dfPsyco['Scoring high in Psychopathy']==True]"
   ]
  },
  {
   "cell_type": "markdown",
   "id": "3f693f2b",
   "metadata": {},
   "source": [
    "Se divide el data frame en las variables(X) y la variable objetivo(y) que es Scoring high in Psychopathy"
   ]
  },
  {
   "cell_type": "code",
   "execution_count": 47,
   "id": "e5e8765b",
   "metadata": {},
   "outputs": [],
   "source": [
    "X=dfPsyco[['Score','Var1','Var2']]\n",
    "y=dfPsyco['Scoring high in Psychopathy']"
   ]
  },
  {
   "cell_type": "markdown",
   "id": "835c7486",
   "metadata": {},
   "source": [
    "Se dividen los datos en datos de prueba y datos de entrenamiento usando la función train_test_split"
   ]
  },
  {
   "cell_type": "code",
   "execution_count": 48,
   "id": "afce2490",
   "metadata": {},
   "outputs": [],
   "source": [
    "train_X, val_X, train_y, val_y = train_test_split(X, y,random_state = 0)"
   ]
  },
  {
   "cell_type": "markdown",
   "id": "b2ab32ae",
   "metadata": {},
   "source": [
    "Como se va a usar un pipeline para aplicar el modelo, primero se define que tipo de tratamiento se les aplicara a los datos nulos o que aparecen con NaN en el DF. En este caso se usara la función de simpleImputer con la estrategia de sustituir estos valores nulos con el valor de la media "
   ]
  },
  {
   "cell_type": "code",
   "execution_count": 49,
   "id": "cba9649f",
   "metadata": {},
   "outputs": [],
   "source": [
    "numerical_transformer = SimpleImputer()"
   ]
  },
  {
   "cell_type": "markdown",
   "id": "c6c2ba26",
   "metadata": {},
   "source": [
    "Se define el preprocesamiento para sustituir nulos en valores numéricos de las columnas Score, Var1 y Var2, se define el modelo en este caso es un RandomForestRegressor de la paquetería sklearn y finalmente se define el pipeline a usar y se guarda en la variable my_pipeline"
   ]
  },
  {
   "cell_type": "code",
   "execution_count": 50,
   "id": "32bf24c2",
   "metadata": {},
   "outputs": [],
   "source": [
    "#preprocesamiento para varaibles numéricas\n",
    "preprocessor = ColumnTransformer(\n",
    "    transformers=[\n",
    "        ('num', numerical_transformer, ['Score','Var1','Var2'])\n",
    "    ])\n",
    "#modelo\n",
    "model = RandomForestRegressor(n_estimators=100, random_state=0)\n",
    "#pipeline\n",
    "my_pipeline = Pipeline(steps=[('preprocessor', preprocessor),\n",
    "                              ('model', model)\n",
    "                             ])"
   ]
  },
  {
   "cell_type": "markdown",
   "id": "55210be1",
   "metadata": {},
   "source": [
    "Se entrena el modelo con los datos de entrenamiento "
   ]
  },
  {
   "cell_type": "code",
   "execution_count": 51,
   "id": "7fa9bf10",
   "metadata": {},
   "outputs": [
    {
     "data": {
      "text/html": [
       "<style>#sk-container-id-2 {color: black;background-color: white;}#sk-container-id-2 pre{padding: 0;}#sk-container-id-2 div.sk-toggleable {background-color: white;}#sk-container-id-2 label.sk-toggleable__label {cursor: pointer;display: block;width: 100%;margin-bottom: 0;padding: 0.3em;box-sizing: border-box;text-align: center;}#sk-container-id-2 label.sk-toggleable__label-arrow:before {content: \"▸\";float: left;margin-right: 0.25em;color: #696969;}#sk-container-id-2 label.sk-toggleable__label-arrow:hover:before {color: black;}#sk-container-id-2 div.sk-estimator:hover label.sk-toggleable__label-arrow:before {color: black;}#sk-container-id-2 div.sk-toggleable__content {max-height: 0;max-width: 0;overflow: hidden;text-align: left;background-color: #f0f8ff;}#sk-container-id-2 div.sk-toggleable__content pre {margin: 0.2em;color: black;border-radius: 0.25em;background-color: #f0f8ff;}#sk-container-id-2 input.sk-toggleable__control:checked~div.sk-toggleable__content {max-height: 200px;max-width: 100%;overflow: auto;}#sk-container-id-2 input.sk-toggleable__control:checked~label.sk-toggleable__label-arrow:before {content: \"▾\";}#sk-container-id-2 div.sk-estimator input.sk-toggleable__control:checked~label.sk-toggleable__label {background-color: #d4ebff;}#sk-container-id-2 div.sk-label input.sk-toggleable__control:checked~label.sk-toggleable__label {background-color: #d4ebff;}#sk-container-id-2 input.sk-hidden--visually {border: 0;clip: rect(1px 1px 1px 1px);clip: rect(1px, 1px, 1px, 1px);height: 1px;margin: -1px;overflow: hidden;padding: 0;position: absolute;width: 1px;}#sk-container-id-2 div.sk-estimator {font-family: monospace;background-color: #f0f8ff;border: 1px dotted black;border-radius: 0.25em;box-sizing: border-box;margin-bottom: 0.5em;}#sk-container-id-2 div.sk-estimator:hover {background-color: #d4ebff;}#sk-container-id-2 div.sk-parallel-item::after {content: \"\";width: 100%;border-bottom: 1px solid gray;flex-grow: 1;}#sk-container-id-2 div.sk-label:hover label.sk-toggleable__label {background-color: #d4ebff;}#sk-container-id-2 div.sk-serial::before {content: \"\";position: absolute;border-left: 1px solid gray;box-sizing: border-box;top: 0;bottom: 0;left: 50%;z-index: 0;}#sk-container-id-2 div.sk-serial {display: flex;flex-direction: column;align-items: center;background-color: white;padding-right: 0.2em;padding-left: 0.2em;position: relative;}#sk-container-id-2 div.sk-item {position: relative;z-index: 1;}#sk-container-id-2 div.sk-parallel {display: flex;align-items: stretch;justify-content: center;background-color: white;position: relative;}#sk-container-id-2 div.sk-item::before, #sk-container-id-2 div.sk-parallel-item::before {content: \"\";position: absolute;border-left: 1px solid gray;box-sizing: border-box;top: 0;bottom: 0;left: 50%;z-index: -1;}#sk-container-id-2 div.sk-parallel-item {display: flex;flex-direction: column;z-index: 1;position: relative;background-color: white;}#sk-container-id-2 div.sk-parallel-item:first-child::after {align-self: flex-end;width: 50%;}#sk-container-id-2 div.sk-parallel-item:last-child::after {align-self: flex-start;width: 50%;}#sk-container-id-2 div.sk-parallel-item:only-child::after {width: 0;}#sk-container-id-2 div.sk-dashed-wrapped {border: 1px dashed gray;margin: 0 0.4em 0.5em 0.4em;box-sizing: border-box;padding-bottom: 0.4em;background-color: white;}#sk-container-id-2 div.sk-label label {font-family: monospace;font-weight: bold;display: inline-block;line-height: 1.2em;}#sk-container-id-2 div.sk-label-container {text-align: center;}#sk-container-id-2 div.sk-container {/* jupyter's `normalize.less` sets `[hidden] { display: none; }` but bootstrap.min.css set `[hidden] { display: none !important; }` so we also need the `!important` here to be able to override the default hidden behavior on the sphinx rendered scikit-learn.org. See: https://github.com/scikit-learn/scikit-learn/issues/21755 */display: inline-block !important;position: relative;}#sk-container-id-2 div.sk-text-repr-fallback {display: none;}</style><div id=\"sk-container-id-2\" class=\"sk-top-container\"><div class=\"sk-text-repr-fallback\"><pre>Pipeline(steps=[(&#x27;preprocessor&#x27;,\n",
       "                 ColumnTransformer(transformers=[(&#x27;num&#x27;,\n",
       "                                                  SimpleImputer(strategy=&#x27;constant&#x27;),\n",
       "                                                  [&#x27;Score&#x27;, &#x27;Var1&#x27;, &#x27;Var2&#x27;])])),\n",
       "                (&#x27;model&#x27;, RandomForestRegressor(random_state=0))])</pre><b>In a Jupyter environment, please rerun this cell to show the HTML representation or trust the notebook. <br />On GitHub, the HTML representation is unable to render, please try loading this page with nbviewer.org.</b></div><div class=\"sk-container\" hidden><div class=\"sk-item sk-dashed-wrapped\"><div class=\"sk-label-container\"><div class=\"sk-label sk-toggleable\"><input class=\"sk-toggleable__control sk-hidden--visually\" id=\"sk-estimator-id-6\" type=\"checkbox\" ><label for=\"sk-estimator-id-6\" class=\"sk-toggleable__label sk-toggleable__label-arrow\">Pipeline</label><div class=\"sk-toggleable__content\"><pre>Pipeline(steps=[(&#x27;preprocessor&#x27;,\n",
       "                 ColumnTransformer(transformers=[(&#x27;num&#x27;,\n",
       "                                                  SimpleImputer(strategy=&#x27;constant&#x27;),\n",
       "                                                  [&#x27;Score&#x27;, &#x27;Var1&#x27;, &#x27;Var2&#x27;])])),\n",
       "                (&#x27;model&#x27;, RandomForestRegressor(random_state=0))])</pre></div></div></div><div class=\"sk-serial\"><div class=\"sk-item sk-dashed-wrapped\"><div class=\"sk-label-container\"><div class=\"sk-label sk-toggleable\"><input class=\"sk-toggleable__control sk-hidden--visually\" id=\"sk-estimator-id-7\" type=\"checkbox\" ><label for=\"sk-estimator-id-7\" class=\"sk-toggleable__label sk-toggleable__label-arrow\">preprocessor: ColumnTransformer</label><div class=\"sk-toggleable__content\"><pre>ColumnTransformer(transformers=[(&#x27;num&#x27;, SimpleImputer(strategy=&#x27;constant&#x27;),\n",
       "                                 [&#x27;Score&#x27;, &#x27;Var1&#x27;, &#x27;Var2&#x27;])])</pre></div></div></div><div class=\"sk-parallel\"><div class=\"sk-parallel-item\"><div class=\"sk-item\"><div class=\"sk-label-container\"><div class=\"sk-label sk-toggleable\"><input class=\"sk-toggleable__control sk-hidden--visually\" id=\"sk-estimator-id-8\" type=\"checkbox\" ><label for=\"sk-estimator-id-8\" class=\"sk-toggleable__label sk-toggleable__label-arrow\">num</label><div class=\"sk-toggleable__content\"><pre>[&#x27;Score&#x27;, &#x27;Var1&#x27;, &#x27;Var2&#x27;]</pre></div></div></div><div class=\"sk-serial\"><div class=\"sk-item\"><div class=\"sk-estimator sk-toggleable\"><input class=\"sk-toggleable__control sk-hidden--visually\" id=\"sk-estimator-id-9\" type=\"checkbox\" ><label for=\"sk-estimator-id-9\" class=\"sk-toggleable__label sk-toggleable__label-arrow\">SimpleImputer</label><div class=\"sk-toggleable__content\"><pre>SimpleImputer(strategy=&#x27;constant&#x27;)</pre></div></div></div></div></div></div></div></div><div class=\"sk-item\"><div class=\"sk-estimator sk-toggleable\"><input class=\"sk-toggleable__control sk-hidden--visually\" id=\"sk-estimator-id-10\" type=\"checkbox\" ><label for=\"sk-estimator-id-10\" class=\"sk-toggleable__label sk-toggleable__label-arrow\">RandomForestRegressor</label><div class=\"sk-toggleable__content\"><pre>RandomForestRegressor(random_state=0)</pre></div></div></div></div></div></div></div>"
      ],
      "text/plain": [
       "Pipeline(steps=[('preprocessor',\n",
       "                 ColumnTransformer(transformers=[('num',\n",
       "                                                  SimpleImputer(strategy='constant'),\n",
       "                                                  ['Score', 'Var1', 'Var2'])])),\n",
       "                ('model', RandomForestRegressor(random_state=0))])"
      ]
     },
     "execution_count": 51,
     "metadata": {},
     "output_type": "execute_result"
    }
   ],
   "source": [
    "my_pipeline.fit(train_X, train_y)"
   ]
  },
  {
   "cell_type": "markdown",
   "id": "7d423da1",
   "metadata": {},
   "source": [
    "Se sacan las predicciones para los datos de prueba "
   ]
  },
  {
   "cell_type": "code",
   "execution_count": 52,
   "id": "df868ca8",
   "metadata": {},
   "outputs": [],
   "source": [
    "preds = my_pipeline.predict(val_X)"
   ]
  },
  {
   "cell_type": "markdown",
   "id": "18ea4afb",
   "metadata": {},
   "source": [
    "Se mide el desempeño del modelo"
   ]
  },
  {
   "cell_type": "code",
   "execution_count": 53,
   "id": "4ac64c51",
   "metadata": {},
   "outputs": [
    {
     "name": "stdout",
     "output_type": "stream",
     "text": [
      "MAE: 0.0\n"
     ]
    }
   ],
   "source": [
    "score = mean_absolute_error(val_y, preds)\n",
    "print('MAE:', score)"
   ]
  },
  {
   "cell_type": "markdown",
   "id": "e46a1234",
   "metadata": {},
   "source": [
    "Se comparan los resultados de las predicciones con el valor real de los datos de prueba"
   ]
  },
  {
   "cell_type": "code",
   "execution_count": 67,
   "id": "0a2a2880",
   "metadata": {},
   "outputs": [
    {
     "data": {
      "text/html": [
       "<div>\n",
       "<style scoped>\n",
       "    .dataframe tbody tr th:only-of-type {\n",
       "        vertical-align: middle;\n",
       "    }\n",
       "\n",
       "    .dataframe tbody tr th {\n",
       "        vertical-align: top;\n",
       "    }\n",
       "\n",
       "    .dataframe thead th {\n",
       "        text-align: right;\n",
       "    }\n",
       "</style>\n",
       "<table border=\"1\" class=\"dataframe\">\n",
       "  <thead>\n",
       "    <tr style=\"text-align: right;\">\n",
       "      <th></th>\n",
       "      <th>y</th>\n",
       "      <th>pred</th>\n",
       "    </tr>\n",
       "    <tr>\n",
       "      <th>uid</th>\n",
       "      <th></th>\n",
       "      <th></th>\n",
       "    </tr>\n",
       "  </thead>\n",
       "  <tbody>\n",
       "    <tr>\n",
       "      <th>2127</th>\n",
       "      <td>False</td>\n",
       "      <td>0.0</td>\n",
       "    </tr>\n",
       "    <tr>\n",
       "      <th>723</th>\n",
       "      <td>False</td>\n",
       "      <td>0.0</td>\n",
       "    </tr>\n",
       "    <tr>\n",
       "      <th>2699</th>\n",
       "      <td>False</td>\n",
       "      <td>0.0</td>\n",
       "    </tr>\n",
       "    <tr>\n",
       "      <th>1962</th>\n",
       "      <td>True</td>\n",
       "      <td>1.0</td>\n",
       "    </tr>\n",
       "    <tr>\n",
       "      <th>306</th>\n",
       "      <td>False</td>\n",
       "      <td>0.0</td>\n",
       "    </tr>\n",
       "    <tr>\n",
       "      <th>1139</th>\n",
       "      <td>False</td>\n",
       "      <td>0.0</td>\n",
       "    </tr>\n",
       "    <tr>\n",
       "      <th>2197</th>\n",
       "      <td>False</td>\n",
       "      <td>0.0</td>\n",
       "    </tr>\n",
       "    <tr>\n",
       "      <th>1663</th>\n",
       "      <td>False</td>\n",
       "      <td>0.0</td>\n",
       "    </tr>\n",
       "    <tr>\n",
       "      <th>2135</th>\n",
       "      <td>False</td>\n",
       "      <td>0.0</td>\n",
       "    </tr>\n",
       "    <tr>\n",
       "      <th>1463</th>\n",
       "      <td>False</td>\n",
       "      <td>0.0</td>\n",
       "    </tr>\n",
       "  </tbody>\n",
       "</table>\n",
       "</div>"
      ],
      "text/plain": [
       "          y  pred\n",
       "uid              \n",
       "2127  False   0.0\n",
       "723   False   0.0\n",
       "2699  False   0.0\n",
       "1962   True   1.0\n",
       "306   False   0.0\n",
       "1139  False   0.0\n",
       "2197  False   0.0\n",
       "1663  False   0.0\n",
       "2135  False   0.0\n",
       "1463  False   0.0"
      ]
     },
     "execution_count": 67,
     "metadata": {},
     "output_type": "execute_result"
    }
   ],
   "source": [
    "pd.DataFrame({'y':val_y, 'pred':preds}).head(10)"
   ]
  },
  {
   "cell_type": "markdown",
   "id": "43529e1b",
   "metadata": {},
   "source": [
    "### Comparación de resultados con otro modelo"
   ]
  },
  {
   "cell_type": "markdown",
   "id": "5c1c8a99",
   "metadata": {},
   "source": [
    "Se aplica el modelo de clasificador Naive Bayes para comparar el desempeño de ambos modelos aplicados "
   ]
  },
  {
   "cell_type": "code",
   "execution_count": 64,
   "id": "506dc9e0",
   "metadata": {},
   "outputs": [
    {
     "name": "stdout",
     "output_type": "stream",
     "text": [
      "MAE: 0.006830601092896175\n"
     ]
    }
   ],
   "source": [
    "from sklearn.naive_bayes import GaussianNB\n",
    "#modelo clasificador de Naive Bayes\n",
    "model_nb = GaussianNB()\n",
    "#pipeline con modelo Naive Bayes, se aplica el mismo preprocesamiento\n",
    "my_pipeline_nb = Pipeline(steps=[('preprocessor', preprocessor),\n",
    "                              ('model', model_nb)\n",
    "                             ])\n",
    "#Entrenamiento\n",
    "my_pipeline_nb.fit(train_X, train_y)\n",
    "#Predicciones\n",
    "preds_nb = my_pipeline_nb.predict(val_X)\n",
    "#Medida para el desempeño del modelo\n",
    "score_nb = mean_absolute_error(val_y, [int(i) for i in preds_nb])\n",
    "print('MAE:', score_nb)"
   ]
  },
  {
   "cell_type": "markdown",
   "id": "23a93570",
   "metadata": {},
   "source": [
    "Se observa que la métrica de error es diferente de cero a comparación de la métrica de error de RandomForest que era cero, lo cual nos indica que el mejor modelo para este set de datos es RandomForest"
   ]
  },
  {
   "cell_type": "code",
   "execution_count": 66,
   "id": "309b0666",
   "metadata": {},
   "outputs": [
    {
     "data": {
      "text/html": [
       "<div>\n",
       "<style scoped>\n",
       "    .dataframe tbody tr th:only-of-type {\n",
       "        vertical-align: middle;\n",
       "    }\n",
       "\n",
       "    .dataframe tbody tr th {\n",
       "        vertical-align: top;\n",
       "    }\n",
       "\n",
       "    .dataframe thead th {\n",
       "        text-align: right;\n",
       "    }\n",
       "</style>\n",
       "<table border=\"1\" class=\"dataframe\">\n",
       "  <thead>\n",
       "    <tr style=\"text-align: right;\">\n",
       "      <th></th>\n",
       "      <th>y</th>\n",
       "      <th>pred</th>\n",
       "      <th>pred_nb</th>\n",
       "    </tr>\n",
       "    <tr>\n",
       "      <th>uid</th>\n",
       "      <th></th>\n",
       "      <th></th>\n",
       "      <th></th>\n",
       "    </tr>\n",
       "  </thead>\n",
       "  <tbody>\n",
       "    <tr>\n",
       "      <th>2127</th>\n",
       "      <td>False</td>\n",
       "      <td>0.0</td>\n",
       "      <td>False</td>\n",
       "    </tr>\n",
       "    <tr>\n",
       "      <th>723</th>\n",
       "      <td>False</td>\n",
       "      <td>0.0</td>\n",
       "      <td>False</td>\n",
       "    </tr>\n",
       "    <tr>\n",
       "      <th>2699</th>\n",
       "      <td>False</td>\n",
       "      <td>0.0</td>\n",
       "      <td>False</td>\n",
       "    </tr>\n",
       "    <tr>\n",
       "      <th>1962</th>\n",
       "      <td>True</td>\n",
       "      <td>1.0</td>\n",
       "      <td>False</td>\n",
       "    </tr>\n",
       "    <tr>\n",
       "      <th>306</th>\n",
       "      <td>False</td>\n",
       "      <td>0.0</td>\n",
       "      <td>False</td>\n",
       "    </tr>\n",
       "    <tr>\n",
       "      <th>1139</th>\n",
       "      <td>False</td>\n",
       "      <td>0.0</td>\n",
       "      <td>False</td>\n",
       "    </tr>\n",
       "    <tr>\n",
       "      <th>2197</th>\n",
       "      <td>False</td>\n",
       "      <td>0.0</td>\n",
       "      <td>False</td>\n",
       "    </tr>\n",
       "    <tr>\n",
       "      <th>1663</th>\n",
       "      <td>False</td>\n",
       "      <td>0.0</td>\n",
       "      <td>False</td>\n",
       "    </tr>\n",
       "    <tr>\n",
       "      <th>2135</th>\n",
       "      <td>False</td>\n",
       "      <td>0.0</td>\n",
       "      <td>False</td>\n",
       "    </tr>\n",
       "    <tr>\n",
       "      <th>1463</th>\n",
       "      <td>False</td>\n",
       "      <td>0.0</td>\n",
       "      <td>False</td>\n",
       "    </tr>\n",
       "  </tbody>\n",
       "</table>\n",
       "</div>"
      ],
      "text/plain": [
       "          y  pred  pred_nb\n",
       "uid                       \n",
       "2127  False   0.0    False\n",
       "723   False   0.0    False\n",
       "2699  False   0.0    False\n",
       "1962   True   1.0    False\n",
       "306   False   0.0    False\n",
       "1139  False   0.0    False\n",
       "2197  False   0.0    False\n",
       "1663  False   0.0    False\n",
       "2135  False   0.0    False\n",
       "1463  False   0.0    False"
      ]
     },
     "execution_count": 66,
     "metadata": {},
     "output_type": "execute_result"
    }
   ],
   "source": [
    "pd.DataFrame({'y':val_y, 'pred':preds, 'pred_nb': preds_nb}).head(10)"
   ]
  },
  {
   "cell_type": "markdown",
   "id": "3eebd338",
   "metadata": {},
   "source": [
    "## Conclusiones"
   ]
  },
  {
   "cell_type": "markdown",
   "id": "2b72cd91",
   "metadata": {},
   "source": [
    "El verdadero reto de este trabajo era trabajar con una muestra de datos muy pequeña, ya que solo el 3%  del total de los scores eran altos para psicopatía. Con esta pequeña muestra se construyo el modelo y se dividieron los datos en set de prueba y de entrenamiento. El modelo de RandomForest tuvo buenos resultados al predecir los datos de prueba, ya que la métrica de error medio absoluto fue cero al comparar los resultados obtenidos por el modelo y los datos verdaderos, con este resultado se podría llegar a la conclusión que el modelo funciona muy bien ya que predice los valores esperados y definir si un score es alto en psicopatía o no. Pero, por otro lado, también se podría decir que esta modelo esta sobre ajustado ya que funciona perfectamente para predecir los resultados del set de entrenamiento y prueba, pero para nuevos valores posiblemente no se obtendrían las predicciones correctas, ya que el modelo tiene configuraciones para predecir específicamente los resultados del set de prueba y entrenamiento. \n",
    "\n",
    "Se aplico de igual manera un modelo clasificador Naive Bayes para obtener los mismos resultados para el set de prueba, en este la métrica MAE, fue diferente de cero y se pudo observar en una muestra de los primeros 10 resultados del set de prueba que para un valor que debía ser verdadero para un score alto en psicopatía, lo clasifico como negativo. Esto, como con el modelo anterior, no significa que sea muy bueno o malo, es cierto que la métrica MAE es diferente de cero, pero es bastante cerca al 0, por lo que aun puede arrojar buenos resultados ya que posiblemente este modelo no este sobre ajustado solo para los datos de entrenamiento. \n",
    "\n",
    "Desafortunadamente para este trabajo no se proporciono un tercer set de datos de validación y así poder aplicar los modelos, ver los resultados de ambos, hacer una comparativa y así determinar si alguno de los modelos tenia un sobreajuste o arrojaba buenos resultados de predicción. \n",
    "Como conclusión me gustaría quedarme con los resultados arrojados por el modelo de RandomForest ya que las predicciones fueron iguales a los valores reales a diferencia del modelo NB que tuvo un error de predicción, pero sabiendo que podría existir un sobreajuste del modelo al tener una muestra pequeña de datos.\n",
    "Poder aplicar este tipo de modelos de Machine Learning a problemas que tiene un impacto en la sociedad, ya que se está hablando de detectar comportamientos de personalidades antisociales en redes sociales, es posible y se puede hacer de forma automática con la propuesta que se planteó del modelo de RandomForest con el que se obtuvieron buenos resultados en el set de prueba. En futuros trabajos se podría realizar este mismo modelado, pero para otro tipo de comportamientos como narcisismos o maquiavelismo y ver si se obtienen de igual forma resultados buenos y así poder abarcar los distintos tipos de comportamientos en redes sociales. \n"
   ]
  },
  {
   "cell_type": "markdown",
   "id": "c84b2ce5",
   "metadata": {},
   "source": [
    "## Referencias "
   ]
  },
  {
   "cell_type": "markdown",
   "id": "008c4823",
   "metadata": {},
   "source": [
    "Fernández, R. (2022). Previsión del número de usuarios mensuales activos (MAU) de Twitter a nivel mundial desde 2021 hasta 2025. Obtenido de https://es.statista.com/estadisticas/636174/numero-de-usuarios-mensuales-activos-de-twitter-en-el-mundo/\n",
    "\n",
    "Personality Prediction Based on Twitter Stream. (s.f.). Obtenido de https://www.kaggle.com/competitions/twitter-personality-prediction/data\n",
    "\n",
    "Sumner, Chris & Byers, Alison & Boochever, Rachel & Sumner, Chris & Byers, Alison & Boochever, Rachel & Park, Gregory. (2012). Predicting Dark Triad Personality Traits from Twitter Usage and a Linguistic Analysis of Tweets. Proceedings - 2012 11th International Conference on Machine Learning and Applications, ICMLA 2012. 2. 10.1109/ICMLA.2012.218. \n"
   ]
  }
 ],
 "metadata": {
  "kernelspec": {
   "display_name": "Python 3 (ipykernel)",
   "language": "python",
   "name": "python3"
  },
  "language_info": {
   "codemirror_mode": {
    "name": "ipython",
    "version": 3
   },
   "file_extension": ".py",
   "mimetype": "text/x-python",
   "name": "python",
   "nbconvert_exporter": "python",
   "pygments_lexer": "ipython3",
   "version": "3.9.5"
  }
 },
 "nbformat": 4,
 "nbformat_minor": 5
}
